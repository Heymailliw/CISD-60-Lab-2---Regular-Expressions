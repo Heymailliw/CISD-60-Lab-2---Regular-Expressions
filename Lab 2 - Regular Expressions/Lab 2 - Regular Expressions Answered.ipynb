{
 "cells": [
  {
   "cell_type": "markdown",
   "metadata": {},
   "source": [
    "## Python Regular Expressions RegEx"
   ]
  },
  {
   "cell_type": "markdown",
   "metadata": {},
   "source": [
    "### A RegEx, or Regular Expression, is a sequence of characters that forms a search pattern.\n",
    "\n",
    "RegEx can be used to check if a string contains the specified search pattern.\n",
    "\n",
    "RegEx Module\n",
    "Python has a built-in package called re, which can be used to work with Regular Expressions."
   ]
  },
  {
   "cell_type": "markdown",
   "metadata": {},
   "source": [
    "### Import Regular Expression Library"
   ]
  },
  {
   "cell_type": "code",
   "execution_count": 1,
   "metadata": {},
   "outputs": [],
   "source": [
    "import re"
   ]
  },
  {
   "cell_type": "markdown",
   "metadata": {},
   "source": [
    "#### create a pattern object  representing a compiled regular expression using re.compile() method. Add the followign text to it: <br> 'Hello, I am studyng Deep Learning at Mt. SAC. How are you doing?'"
   ]
  },
  {
   "cell_type": "code",
   "execution_count": 10,
   "metadata": {},
   "outputs": [],
   "source": [
    "# Define the text\n",
    "text = 'Hello, I am studying Deep Learning at Mt. SAC. How are you doing?'\n",
    "\n",
    "# Create a pattern object using re.compile()\n",
    "pattern = re.compile('Deep Learning')"
   ]
  },
  {
   "cell_type": "markdown",
   "metadata": {},
   "source": [
    "### print the pattern"
   ]
  },
  {
   "cell_type": "code",
   "execution_count": 13,
   "metadata": {},
   "outputs": [
    {
     "name": "stdout",
     "output_type": "stream",
     "text": [
      "Pattern: re.compile('Deep Learning')\n"
     ]
    }
   ],
   "source": [
    "# Print the pattern\n",
    "print(\"Pattern:\", pattern)"
   ]
  },
  {
   "cell_type": "markdown",
   "metadata": {},
   "source": [
    "#### Using the search method, find the words 'Deep Learning' in the followign text: <br> 'Hello, I am studyng Deep Learning at Mt. SAC. How are you doing?'"
   ]
  },
  {
   "cell_type": "code",
   "execution_count": 18,
   "metadata": {},
   "outputs": [
    {
     "name": "stdout",
     "output_type": "stream",
     "text": [
      "Found 'Deep Learning' in the text!\n"
     ]
    }
   ],
   "source": [
    "# Use the search method to find 'Deep Learning' in the text\n",
    "match = pattern.search(text)\n",
    "\n",
    "# Check if the pattern was found\n",
    "if match:\n",
    "    print(f\"Found '{match.group()}' in the text!\")\n",
    "else:\n",
    "    print(\"Pattern not found.\")"
   ]
  },
  {
   "cell_type": "markdown",
   "metadata": {},
   "source": [
    "#### Given the followign text, find the word 'NLP' and print the output. Hint: use re.searc() and match.group()"
   ]
  },
  {
   "cell_type": "code",
   "execution_count": 20,
   "metadata": {},
   "outputs": [
    {
     "name": "stdout",
     "output_type": "stream",
     "text": [
      "Found: NLP\n"
     ]
    }
   ],
   "source": [
    "match = re.search('NLP', 'In this class, we will do several labs to understand NLP')\n",
    "# enter your code here:\n",
    "\n",
    "# Check if the pattern was found\n",
    "if match:\n",
    "    # Print the found word\n",
    "    print(f\"Found: {match.group()}\")\n",
    "else:\n",
    "    print(\"Pattern not found.\")"
   ]
  },
  {
   "cell_type": "markdown",
   "metadata": {},
   "source": [
    "#### Write a function to match regular expression patterns: def find_pattern:"
   ]
  },
  {
   "cell_type": "code",
   "execution_count": 26,
   "metadata": {},
   "outputs": [
    {
     "name": "stdout",
     "output_type": "stream",
     "text": [
      "Found: NLP\n"
     ]
    }
   ],
   "source": [
    "def find_pattern(pattern, text):\n",
    "    # Compile the pattern into a regex object\n",
    "    regex = re.compile(pattern)\n",
    "    \n",
    "    # Search for the pattern in the text\n",
    "    match = regex.search(text)\n",
    "    \n",
    "    # Check if the pattern was found\n",
    "    if match:\n",
    "        # Return the matched string\n",
    "        return match.group()\n",
    "    else:\n",
    "        # Return None if no match was found\n",
    "        return None\n",
    "\n",
    "# Example usage:\n",
    "pattern = 'NLP'\n",
    "text = 'In this class, we will do several labs to understand NLP'\n",
    "result = find_pattern(pattern, text)\n",
    "\n",
    "if result:\n",
    "    print(f\"Found: {result}\")\n",
    "else:\n",
    "    print(\"Pattern not found.\")\n"
   ]
  },
  {
   "cell_type": "markdown",
   "metadata": {},
   "source": [
    "#### Call the function find_pattern with the following values:\n",
    "- pattern: We are learning NLP, so we can program a chatbot before the end of teh semester.\n",
    "- text: chatbot "
   ]
  },
  {
   "cell_type": "code",
   "execution_count": 33,
   "metadata": {},
   "outputs": [
    {
     "name": "stdout",
     "output_type": "stream",
     "text": [
      "Found: chatbot\n"
     ]
    }
   ],
   "source": [
    "pattern = \"chatbot\"\n",
    "text = \"We are learning NLP, so we can program a chatbot before the end of the semester.\"\n",
    "\n",
    "# Call the function\n",
    "result = find_pattern(pattern, text)\n",
    "\n",
    "# Print the result\n",
    "if result:\n",
    "    print(f\"Found: {result}\")\n",
    "else:\n",
    "    print(\"Pattern not found.\")\n"
   ]
  },
  {
   "cell_type": "markdown",
   "metadata": {},
   "source": [
    "### What is regex?"
   ]
  },
  {
   "cell_type": "markdown",
   "metadata": {},
   "source": [
    "\n",
    "Regular expressions, often abbreviated as \"regex,\" are sequences of characters that form search patterns. They are used to match, search, and manipulate strings in a flexible and powerful way. Regex is commonly used for validating input, searching for patterns within text, and parsing strings.\n"
   ]
  },
  {
   "cell_type": "markdown",
   "metadata": {},
   "source": [
    "### Using the split() function, separate the words of the following text"
   ]
  },
  {
   "cell_type": "code",
   "execution_count": 38,
   "metadata": {},
   "outputs": [],
   "source": [
    "txt = \"Hello, I am studyng Deep Learning at Mt. SAC. How are you doing?\""
   ]
  },
  {
   "cell_type": "code",
   "execution_count": 42,
   "metadata": {},
   "outputs": [
    {
     "name": "stdout",
     "output_type": "stream",
     "text": [
      "['Hello,', 'I', 'am', 'studying', 'Deep', 'Learning', 'at', 'Mt.', 'SAC.', 'How', 'are', 'you', 'doing?']\n"
     ]
    }
   ],
   "source": [
    "\n",
    "txt = \"Hello, I am studying Deep Learning at Mt. SAC. How are you doing?\"\n",
    "\n",
    "# Split the text into words\n",
    "words = txt.split()\n",
    "\n",
    "# Print the list of words\n",
    "print(words)\n"
   ]
  },
  {
   "cell_type": "markdown",
   "metadata": {},
   "source": [
    "### Using the sub() Function, replace all the white-spaces with the number \"9\" "
   ]
  },
  {
   "cell_type": "code",
   "execution_count": null,
   "metadata": {},
   "outputs": [],
   "source": [
    "txt = \"Hello, I am studyng Deep Learning at Mt. SAC. How are you doing?\""
   ]
  },
  {
   "cell_type": "code",
   "execution_count": 45,
   "metadata": {},
   "outputs": [
    {
     "name": "stdout",
     "output_type": "stream",
     "text": [
      "Hello,9I9am9studying9Deep9Learning9at9Mt.9SAC.9How9are9you9doing?\n"
     ]
    }
   ],
   "source": [
    "# Use re.sub() to replace all white spaces with \"9\"\n",
    "result = re.sub(r'\\s', '9', txt)\n",
    "\n",
    "# Print the result\n",
    "print(result)\n",
    "\n"
   ]
  },
  {
   "cell_type": "markdown",
   "metadata": {},
   "source": [
    "#### You can control the number of replacements by specifying the count parameter. \n",
    "#### replace the first two white spaces in the followign text with the number 9 and print the new text"
   ]
  },
  {
   "cell_type": "code",
   "execution_count": null,
   "metadata": {},
   "outputs": [],
   "source": [
    "txt = \"Hello, I am studyng Deep Learning at Mt. SAC. How are you doing?\""
   ]
  },
  {
   "cell_type": "code",
   "execution_count": 47,
   "metadata": {},
   "outputs": [
    {
     "name": "stdout",
     "output_type": "stream",
     "text": [
      "Hello,9I9am studying Deep Learning at Mt. SAC. How are you doing?\n"
     ]
    }
   ],
   "source": [
    "# Replace the first two white spaces with \"9\"\n",
    "result = re.sub(r'\\s', '9', txt, count=2)\n",
    "\n",
    "# Print the new text\n",
    "print(result)"
   ]
  },
  {
   "cell_type": "markdown",
   "metadata": {},
   "source": [
    "### What are the five most important re functions that you would be required to use most of the times are"
   ]
  },
  {
   "cell_type": "markdown",
   "metadata": {},
   "source": [
    "The five most important functions in Python's re module that would likely use most of the time are:\n",
    "\n",
    "re.search(): Scans through a string and looks for the first location where the regular expression pattern produces a match.\n",
    "re.match(): Determines if the regular expression matches at the beginning of the string.\n",
    "re.findall(): Finds all occurrences of a pattern in a string and returns them as a list.\n",
    "re.sub(): Substitutes occurrences of the pattern in a string with a replacement string.\n",
    "re.compile(): Compiles a regular expression pattern into a regex object, which can be used for pattern matching."
   ]
  },
  {
   "cell_type": "markdown",
   "metadata": {},
   "source": [
    "### The Match object has properties and methods used to retrieve information about the search, and the result:\n",
    "\n",
    "- span() returns a tuple containing the start-, and end positions of the match.\n",
    "- string returns the string passed into the function\n",
    "- group() returns the part of the string where there was a match"
   ]
  },
  {
   "cell_type": "markdown",
   "metadata": {},
   "source": [
    "#### Using the span method, find the start and end position of the word Deep. Hint, look for the first word that has the letter \"D\""
   ]
  },
  {
   "cell_type": "code",
   "execution_count": 51,
   "metadata": {},
   "outputs": [
    {
     "name": "stdout",
     "output_type": "stream",
     "text": [
      "The word 'Deep' starts at position 20 and ends at position 24.\n"
     ]
    }
   ],
   "source": [
    "txt = \"Hello, I am studyng Deep Learning at Mt. SAC. How are you doing?\"\n",
    "# Enter your code here\n",
    "# Search for the first word that has the letter \"D\"\n",
    "match = re.search(r'\\bD\\w+', txt)\n",
    "\n",
    "# Check if a match was found\n",
    "if match:\n",
    "    # Use span() method to find the start and end positions of the match\n",
    "    start, end = match.span()\n",
    "    print(f\"The word '{match.group()}' starts at position {start} and ends at position {end}.\")\n",
    "else:\n",
    "    print(\"No match found.\")"
   ]
  },
  {
   "cell_type": "markdown",
   "metadata": {},
   "source": [
    "#### Display the first word that starts with the letter \"D\""
   ]
  },
  {
   "cell_type": "code",
   "execution_count": 55,
   "metadata": {},
   "outputs": [
    {
     "name": "stdout",
     "output_type": "stream",
     "text": [
      "The first word that starts with 'D' is: Deep\n"
     ]
    }
   ],
   "source": [
    "txt = \"Hello, I am studyng Deep Learning at Mt. SAC. How are you doing?\"\n",
    "# Enter your code here\n",
    "# Search for the first word that starts with the letter \"D\"\n",
    "match = re.search(r'\\bD\\w+', txt)\n",
    "\n",
    "# Check if a match was found\n",
    "if match:\n",
    "    # Display the first word that starts with \"D\"\n",
    "    print(f\"The first word that starts with 'D' is: {match.group()}\")\n",
    "else:\n",
    "    print(\"No word starting with 'D' found.\")"
   ]
  },
  {
   "cell_type": "markdown",
   "metadata": {},
   "source": [
    "#### Create pattern object with the word \"Deep\""
   ]
  },
  {
   "cell_type": "code",
   "execution_count": 74,
   "metadata": {},
   "outputs": [
    {
     "name": "stdout",
     "output_type": "stream",
     "text": [
      "Pattern object created: re.compile('Deep')\n"
     ]
    }
   ],
   "source": [
    "# Create a pattern object with the word \"Deep\"\n",
    "pattern = re.compile(\"Deep\")\n",
    "\n",
    "# Print the pattern object\n",
    "print(f\"Pattern object created: {pattern}\")"
   ]
  },
  {
   "cell_type": "markdown",
   "metadata": {},
   "source": [
    "#### Create a function named: \"highlight_regex_matches\" to highlight words wiht green color"
   ]
  },
  {
   "cell_type": "code",
   "execution_count": 77,
   "metadata": {},
   "outputs": [
    {
     "name": "stdout",
     "output_type": "stream",
     "text": [
      "Hello, I am studying Deep Learning at Mt. SAC. How are you doing?\n"
     ]
    }
   ],
   "source": [
    "#from colorama import Back, Style\n",
    "#def highlight_regex_matches(pattern, text, print_output=True):\n",
    "    #complete the function\n",
    "\n",
    "from colorama import Fore, Style\n",
    "import re\n",
    "\n",
    "def highlight_regex_matches(pattern, text, print_output=True):\n",
    "    \"\"\"\n",
    "    Highlights matches of the given pattern in the text with green color.\n",
    "    \n",
    "    Args:\n",
    "    - pattern (str): The regex pattern to search for.\n",
    "    - text (str): The text in which to search for the pattern.\n",
    "    - print_output (bool): Whether to print the output with highlights.\n",
    "    \n",
    "    Returns:\n",
    "    - str: The text with highlighted matches if print_output is False.\n",
    "    \"\"\"\n",
    "    # Compile the pattern\n",
    "    regex = re.compile(pattern)\n",
    "    \n",
    "    # Use re.finditer to find all matches\n",
    "    matches = list(regex.finditer(text))\n",
    "    \n",
    "    # Create a highlighted version of the text\n",
    "    highlighted_text = text\n",
    "    offset = 0\n",
    "    for match in matches:\n",
    "        start, end = match.span()\n",
    "        highlighted_text = (highlighted_text[:start + offset] +\n",
    "                            Fore.GREEN + highlighted_text[start + offset:end + offset] + Style.RESET_ALL +\n",
    "                            highlighted_text[end + offset:])\n",
    "        offset += len(Fore.GREEN) + len(Style.RESET_ALL)\n",
    "    \n",
    "    if print_output:\n",
    "        print(highlighted_text)\n",
    "    else:\n",
    "        return highlighted_text\n",
    "\n",
    "# Example usage\n",
    "pattern = \"Deep\"\n",
    "text = \"Hello, I am studying Deep Learning at Mt. SAC. How are you doing?\"\n",
    "highlight_regex_matches(pattern, text)\n"
   ]
  },
  {
   "cell_type": "markdown",
   "metadata": {},
   "source": [
    "#### call the function with these parameters (pattern, \"Hello, I am studyng Deep Learning at Mt. SAC. How are you doing?\") <br> Make sure teh word \"Deep\" is highlighted in green."
   ]
  },
  {
   "cell_type": "code",
   "execution_count": 88,
   "metadata": {},
   "outputs": [
    {
     "data": {
      "text/html": [
       "Hello, I am studying <span style=\"background-color: green; color: white;\">Deep</span> Learning at Mt. SAC. How are you doing?"
      ],
      "text/plain": [
       "<IPython.core.display.HTML object>"
      ]
     },
     "execution_count": 88,
     "metadata": {},
     "output_type": "execute_result"
    }
   ],
   "source": [
    "from IPython.display import HTML\n",
    "\n",
    "def highlight_regex_matches_html(pattern, text):\n",
    "    \"\"\"\n",
    "    Highlights matches of the given pattern in the text with green background color using HTML.\n",
    "    \n",
    "    Args:\n",
    "    - pattern (str): The regex pattern to search for.\n",
    "    - text (str): The text in which to search for the pattern.\n",
    "    \n",
    "    Returns:\n",
    "    - str: The HTML formatted text with highlighted matches.\n",
    "    \"\"\"\n",
    "    import re\n",
    "    \n",
    "    # Compile the pattern\n",
    "    regex = re.compile(pattern)\n",
    "    \n",
    "    # Create a highlighted version of the text\n",
    "    highlighted_text = text\n",
    "    offset = 0\n",
    "    \n",
    "    # Find all matches and highlight them\n",
    "    for match in regex.finditer(text):\n",
    "        start, end = match.span()\n",
    "        highlighted_text = (highlighted_text[:start + offset] +\n",
    "                            '<span style=\"background-color: green; color: white;\">' + highlighted_text[start + offset:end + offset] + '</span>' +\n",
    "                            highlighted_text[end + offset:])\n",
    "        offset += len('<span style=\"background-color: green; color: white;\">') + len('</span>')\n",
    "    \n",
    "    return highlighted_text\n",
    "\n",
    "# Parameters\n",
    "pattern = \"Deep\"\n",
    "text = \"Hello, I am studying Deep Learning at Mt. SAC. How are you doing?\"\n",
    "\n",
    "# Display highlighted text in Jupyter Notebook\n",
    "HTML(highlight_regex_matches_html(pattern, text))\n"
   ]
  },
  {
   "cell_type": "code",
   "execution_count": 15,
   "metadata": {},
   "outputs": [
    {
     "name": "stdout",
     "output_type": "stream",
     "text": [
      "Hello, I am studyng \u001b[42m\u001b[1mDeep\u001b[0m Learning at Mt. SAC. How are you doing?\n"
     ]
    }
   ],
   "source": []
  },
  {
   "cell_type": "markdown",
   "metadata": {},
   "source": [
    "#### Consider an example below where we have `sentence` and `sentense` spellings. We want to find all occurances of both words in the text. "
   ]
  },
  {
   "cell_type": "code",
   "execution_count": 16,
   "metadata": {},
   "outputs": [],
   "source": [
    "txt = \"\"\"when a judge sentences someone, they officially state what someone’s punishment will be. \n",
    "He was sentenced to 15 years in prison, but the officials reduce the sentense\"\"\""
   ]
  },
  {
   "cell_type": "markdown",
   "metadata": {},
   "source": [
    "#### define the pattern"
   ]
  },
  {
   "cell_type": "code",
   "execution_count": 121,
   "metadata": {},
   "outputs": [],
   "source": [
    "from IPython.display import HTML\n",
    "import re\n",
    "\n",
    "def highlight_regex_matches_html(pattern, text):\n",
    "    \"\"\"\n",
    "    Highlights matches of the given pattern in the text with a green background color using HTML.\n",
    "    \n",
    "    Args:\n",
    "    - pattern (str): The regex pattern to search for.\n",
    "    - text (str): The text in which to search for the pattern.\n",
    "    \n",
    "    Returns:\n",
    "    - str: The HTML formatted text with highlighted matches.\n",
    "    \"\"\"\n",
    "    # Compile the pattern\n",
    "    regex = re.compile(pattern)\n",
    "    \n",
    "    # Create a highlighted version of the text\n",
    "    highlighted_text = text\n",
    "    offset = 0\n",
    "    \n",
    "    # Find all matches and highlight them\n",
    "    for match in regex.finditer(text):\n",
    "        start, end = match.span()\n",
    "        highlighted_text = (highlighted_text[:start + offset] +\n",
    "                            '<span style=\"background-color: green; color: white;\">' + highlighted_text[start + offset:end + offset] + '</span>' +\n",
    "                            highlighted_text[end + offset:])\n",
    "        offset += len('<span style=\"background-color: green; color: white;\">') + len\n"
   ]
  },
  {
   "cell_type": "markdown",
   "metadata": {},
   "source": [
    "#### find all the words in the text that match the pattern"
   ]
  },
  {
   "cell_type": "code",
   "execution_count": 123,
   "metadata": {},
   "outputs": [
    {
     "name": "stdout",
     "output_type": "stream",
     "text": [
      "['sentences', 'sentenced', 'sentense']\n"
     ]
    }
   ],
   "source": [
    "import re\n",
    "\n",
    "# Define the text\n",
    "txt = \"\"\"when a judge sentences someone, they officially state what someone’s punishment will be. \n",
    "He was sentenced to 15 years in prison, but the officials reduce the sentense\"\"\"\n",
    "\n",
    "# Define the pattern to match 'sentence', 'sentences', 'sentenced', and 'sentense'\n",
    "pattern = r'\\bsentences?\\b|\\bsentenced\\b|\\bsentense\\b'\n",
    "\n",
    "# Compile the pattern\n",
    "regex = re.compile(pattern)\n",
    "\n",
    "# Find all matches\n",
    "matches = regex.findall(txt)\n",
    "\n",
    "# Display the matches\n",
    "print(matches)\n"
   ]
  },
  {
   "cell_type": "code",
   "execution_count": 18,
   "metadata": {
    "scrolled": true
   },
   "outputs": [
    {
     "data": {
      "text/plain": [
       "['sentence', 'sentence', 'sentense']"
      ]
     },
     "execution_count": 18,
     "metadata": {},
     "output_type": "execute_result"
    }
   ],
   "source": []
  },
  {
   "cell_type": "markdown",
   "metadata": {},
   "source": [
    "#### Highlight all the words that match the pattern"
   ]
  },
  {
   "cell_type": "code",
   "execution_count": 125,
   "metadata": {},
   "outputs": [
    {
     "data": {
      "text/html": [
       "when a judge <span style=\"background-color: green; color: white;\">sentences</span> someone, they officially state what someone’s punishment will be. \n",
       "He was <span style=\"background-color: green; color: white;\">sentenced</span> to 15 years in prison, but the officials reduce the <span style=\"background-color: green; color: white;\">sentense</span>"
      ],
      "text/plain": [
       "<IPython.core.display.HTML object>"
      ]
     },
     "execution_count": 125,
     "metadata": {},
     "output_type": "execute_result"
    }
   ],
   "source": [
    "from IPython.display import HTML\n",
    "\n",
    "def highlight_regex_matches_html(pattern, text):\n",
    "    \"\"\"\n",
    "    Highlights matches of the given pattern in the text with green background color using HTML.\n",
    "    \n",
    "    Args:\n",
    "    - pattern (str): The regex pattern to search for.\n",
    "    - text (str): The text in which to search for the pattern.\n",
    "    \n",
    "    Returns:\n",
    "    - str: The HTML formatted text with highlighted matches.\n",
    "    \"\"\"\n",
    "    import re\n",
    "    \n",
    "    # Compile the pattern\n",
    "    regex = re.compile(pattern)\n",
    "    \n",
    "    # Create a highlighted version of the text\n",
    "    highlighted_text = text\n",
    "    offset = 0\n",
    "    \n",
    "    # Find all matches and highlight them\n",
    "    for match in regex.finditer(text):\n",
    "        start, end = match.span()\n",
    "        highlighted_text = (highlighted_text[:start + offset] +\n",
    "                            '<span style=\"background-color: green; color: white;\">' + highlighted_text[start + offset:end + offset] + '</span>' +\n",
    "                            highlighted_text[end + offset:])\n",
    "        offset += len('<span style=\"background-color: green; color: white;\">') + len('</span>')\n",
    "    \n",
    "    return highlighted_text\n",
    "\n",
    "# Define the text\n",
    "txt = \"\"\"when a judge sentences someone, they officially state what someone’s punishment will be. \n",
    "He was sentenced to 15 years in prison, but the officials reduce the sentense\"\"\"\n",
    "\n",
    "# Define the pattern to match 'sentence', 'sentences', 'sentenced', and 'sentense'\n",
    "pattern = r'\\bsentences?\\b|\\bsentenced\\b|\\bsentense\\b'\n",
    "\n",
    "# Display highlighted text in Jupyter Notebook\n",
    "HTML(highlight_regex_matches_html(pattern, txt))\n"
   ]
  },
  {
   "cell_type": "code",
   "execution_count": 19,
   "metadata": {},
   "outputs": [
    {
     "name": "stdout",
     "output_type": "stream",
     "text": [
      "when a judge \u001b[42m\u001b[1msentence\u001b[0ms someone, they officially state what someone’s punishment will be. \n",
      "He was \u001b[42m\u001b[1msentence\u001b[0md to 15 years in prison, but the officials reduce the \u001b[42m\u001b[1msentense\u001b[0m\n"
     ]
    }
   ],
   "source": []
  },
  {
   "cell_type": "markdown",
   "metadata": {},
   "source": [
    "### List 5 Meta sequences"
   ]
  },
  {
   "cell_type": "markdown",
   "metadata": {},
   "source": [
    "Meta-sequences in regular expressions are special sequences that provide functionality beyond basic character matching. Here are five commonly used meta-sequences:\n",
    "\n",
    "1) . (Dot): Matches any single character except for newline characters.\n",
    "\n",
    "Example: a.c matches \"abc\", \"a1c\", \"a-c\", etc., but not \"ac\" or \"a\\nc\".\n",
    "\n",
    "2) \\d: Matches any digit (equivalent to [0-9]).\n",
    "\n",
    "Example: \\d{2} matches \"12\", \"99\", \"00\", etc.\n",
    "\n",
    "3) \\w: Matches any alphanumeric character (letters and digits) and underscore (equivalent to [a-zA-Z0-9_]).\n",
    "\n",
    "Example: \\w{5} matches \"hello\", \"12345\", \"abc_1\", etc.\n",
    "\n",
    "4) \\s: Matches any whitespace character (spaces, tabs, and newlines).\n",
    "\n",
    "Example: \\s+ matches one or more whitespace characters, such as \" \", \"\\t\", or \"\\n\".\n",
    "\n",
    "5) ^ and $: Anchors that match the start and end of a string, respectively.\n",
    "\n",
    "^: Matches the start of a string.\n",
    "Example: ^abc matches \"abc\" at the beginning of the string.\n",
    "$: Matches the end of a string.\n",
    "Example: xyz$ matches \"xyz\" at the end of the string."
   ]
  },
  {
   "cell_type": "markdown",
   "metadata": {},
   "source": [
    "#### Read the following text"
   ]
  },
  {
   "cell_type": "code",
   "execution_count": 132,
   "metadata": {},
   "outputs": [],
   "source": [
    "txt =\"\"\"American football evolved in the United States, originating from the sports of soccer and rugby!\n",
    "The first American football match was played on November 6, 1869, between two college teams, Rutgers and Princeton,\n",
    "using rules based on the rules of soccer at the time.\n",
    "\n",
    "A set of rule changes drawn up from 1880 onward by Walter Camp,\n",
    "the \"Father of American Football\", established the snap, the line of scrimmage,\n",
    "eleven-player teams, and the concept of downs! Later rule changes legalized the forward pass,\n",
    "created the neutral zone and specified the size and shape of the football.\n",
    "\n",
    "The sport is closely related to Canadian football!\n",
    "It evolved in parallel with and at the same time as the American game,\n",
    "although its rules were developed independently from those of Camp.\n",
    "\n",
    "Most of the features that distinguish American football from rugby and soccer are also present in Canadian football.\n",
    "The two sports are considered the primary variants of gridiron football!\n",
    "\n",
    "American football is the most popular sport in the United States!\n",
    "\n",
    "The most popular forms of the game are professional and college football,\n",
    "with the other major levels being high school and youth football.\n",
    "As of 2012, nearly 1.1 million high school athletes and 70,000 college athletes play the sport in the US annually.\n",
    "\"\"\""
   ]
  },
  {
   "cell_type": "markdown",
   "metadata": {},
   "source": [
    "#### Find all the years listed in the text and display them"
   ]
  },
  {
   "cell_type": "code",
   "execution_count": 135,
   "metadata": {},
   "outputs": [
    {
     "name": "stdout",
     "output_type": "stream",
     "text": [
      "['1869', '1880', '2012']\n"
     ]
    }
   ],
   "source": [
    "# Define the pattern to match years\n",
    "pattern = r'\\b\\d{4}\\b'\n",
    "\n",
    "# Find all matches\n",
    "years = re.findall(pattern, txt)\n",
    "\n",
    "# Display the years\n",
    "print(years)"
   ]
  },
  {
   "cell_type": "code",
   "execution_count": 21,
   "metadata": {},
   "outputs": [
    {
     "data": {
      "text/plain": [
       "['1869', '1880', '2012']"
      ]
     },
     "execution_count": 21,
     "metadata": {},
     "output_type": "execute_result"
    }
   ],
   "source": []
  },
  {
   "cell_type": "markdown",
   "metadata": {},
   "source": [
    "#### Find all the sentences which do not end with a full stop (.) in the given text."
   ]
  },
  {
   "cell_type": "code",
   "execution_count": 137,
   "metadata": {},
   "outputs": [
    {
     "name": "stdout",
     "output_type": "stream",
     "text": [
      "The first American football match was played on November 6, 1869, between two college teams, Rutgers and Princeton,\n",
      "A set of rule changes drawn up from 1880 onward by Walter Camp,\n",
      "the \"Father of American Football\", established the snap, the line of scrimmage,\n",
      "Later rule changes legalized the forward pass,\n",
      "It evolved in parallel with and at the same time as the American game,\n",
      "The most popular forms of the game are professional and college football,\n"
     ]
    }
   ],
   "source": [
    "# Define the pattern to match sentences that do not end with a full stop\n",
    "pattern = r'[^.!?]*[^.!?]\\n'\n",
    "\n",
    "# Find all matches\n",
    "sentences = re.findall(pattern, txt)\n",
    "\n",
    "# Remove any empty sentences\n",
    "sentences = [s.strip() for s in sentences if s.strip()]\n",
    "\n",
    "# Display the sentences\n",
    "for sentence in sentences:\n",
    "    print(sentence)"
   ]
  },
  {
   "cell_type": "code",
   "execution_count": null,
   "metadata": {},
   "outputs": [],
   "source": []
  },
  {
   "cell_type": "markdown",
   "metadata": {},
   "source": [
    "#### Highlight those sentences"
   ]
  },
  {
   "cell_type": "code",
   "execution_count": 141,
   "metadata": {},
   "outputs": [
    {
     "data": {
      "text/html": [
       "American football evolved in the United States, originating from the sports of soccer and rugby!\n",
       "<span style=\"background-color: yellow;\">The first American football match was played on November 6, 1869, between two college teams, Rutgers and Princeton,</span>\n",
       "using rules based on the rules of soccer at the time.\n",
       "\n",
       "<span style=\"background-color: yellow;\">A set of rule changes drawn up from 1880 onward by Walter Camp,</span>\n",
       "<span style=\"background-color: yellow;\">the \"Father of American Football\", established the snap, the line of scrimmage,</span>\n",
       "<span style=\"background-color: yellow;\">eleven-player teams, and the concept of downs! Later rule changes legalized the forward pass,</span>\n",
       "created the neutral zone and specified the size and shape of the football.\n",
       "\n",
       "The sport is closely related to Canadian football!\n",
       "<span style=\"background-color: yellow;\">It evolved in parallel with and at the same time as the American game,</span>\n",
       "although its rules were developed independently from those of Camp.\n",
       "\n",
       "Most of the features that distinguish American football from rugby and soccer are also present in Canadian football.\n",
       "The two sports are considered the primary variants of gridiron football!\n",
       "\n",
       "American football is the most popular sport in the United States!\n",
       "\n",
       "<span style=\"background-color: yellow;\">The most popular forms of the game are professional and college football,</span>\n",
       "with the other major levels being high school and youth football.\n",
       "As of 2012, nearly 1.1 million high school athletes and 70,000 college athletes play the sport in the US annually."
      ],
      "text/plain": [
       "<IPython.core.display.HTML object>"
      ]
     },
     "execution_count": 141,
     "metadata": {},
     "output_type": "execute_result"
    }
   ],
   "source": [
    "from IPython.display import HTML\n",
    "import re\n",
    "\n",
    "def highlight_sentences_no_full_stop(text):\n",
    "    \"\"\"\n",
    "    Highlights sentences in the text that do not end with a full stop.\n",
    "    \n",
    "    Args:\n",
    "    - text (str): The text in which to search for sentences.\n",
    "    \n",
    "    Returns:\n",
    "    - str: The HTML formatted text with highlighted sentences.\n",
    "    \"\"\"\n",
    "    # Define the pattern to match sentences that do not end with a full stop\n",
    "    pattern = r'([^\\n.!?]*[^.!?\\n][^\\n]*)'\n",
    "    \n",
    "    # Find all matches\n",
    "    sentences = re.findall(pattern, text)\n",
    "    \n",
    "    # Create a highlighted version of the text\n",
    "    highlighted_text = text\n",
    "    for sentence in sentences:\n",
    "        # Only highlight non-empty sentences that do not end with a full stop\n",
    "        if sentence.strip() and not sentence.strip().endswith(('.', '!', '?')):\n",
    "            highlighted_text = highlighted_text.replace(sentence, f'<span style=\"background-color: yellow;\">{sentence}</span>')\n",
    "    \n",
    "    return highlighted_text\n",
    "\n",
    "# Define the text\n",
    "txt = \"\"\"American football evolved in the United States, originating from the sports of soccer and rugby!\n",
    "The first American football match was played on November 6, 1869, between two college teams, Rutgers and Princeton,\n",
    "using rules based on the rules of soccer at the time.\n",
    "\n",
    "A set of rule changes drawn up from 1880 onward by Walter Camp,\n",
    "the \"Father of American Football\", established the snap, the line of scrimmage,\n",
    "eleven-player teams, and the concept of downs! Later rule changes legalized the forward pass,\n",
    "created the neutral zone and specified the size and shape of the football.\n",
    "\n",
    "The sport is closely related to Canadian football!\n",
    "It evolved in parallel with and at the same time as the American game,\n",
    "although its rules were developed independently from those of Camp.\n",
    "\n",
    "Most of the features that distinguish American football from rugby and soccer are also present in Canadian football.\n",
    "The two sports are considered the primary variants of gridiron football!\n",
    "\n",
    "American football is the most popular sport in the United States!\n",
    "\n",
    "The most popular forms of the game are professional and college football,\n",
    "with the other major levels being high school and youth football.\n",
    "As of 2012, nearly 1.1 million high school athletes and 70,000 college athletes play the sport in the US annually.\"\"\"\n",
    "\n",
    "# Display highlighted text in Jupyter Notebook\n",
    "HTML(highlight_sentences_no_full_stop(txt))\n"
   ]
  },
  {
   "cell_type": "markdown",
   "metadata": {},
   "source": [
    "#### Now find out all special symbols (non-alphanumeric, non-whitespace characters)."
   ]
  },
  {
   "cell_type": "code",
   "execution_count": 144,
   "metadata": {},
   "outputs": [
    {
     "name": "stdout",
     "output_type": "stream",
     "text": [
      "['!', '\"', ',', '-', '.']\n"
     ]
    }
   ],
   "source": [
    "import re\n",
    "\n",
    "# Define the text\n",
    "txt = \"\"\"American football evolved in the United States, originating from the sports of soccer and rugby!\n",
    "The first American football match was played on November 6, 1869, between two college teams, Rutgers and Princeton,\n",
    "using rules based on the rules of soccer at the time.\n",
    "\n",
    "A set of rule changes drawn up from 1880 onward by Walter Camp,\n",
    "the \"Father of American Football\", established the snap, the line of scrimmage,\n",
    "eleven-player teams, and the concept of downs! Later rule changes legalized the forward pass,\n",
    "created the neutral zone and specified the size and shape of the football.\n",
    "\n",
    "The sport is closely related to Canadian football!\n",
    "It evolved in parallel with and at the same time as the American game,\n",
    "although its rules were developed independently from those of Camp.\n",
    "\n",
    "Most of the features that distinguish American football from rugby and soccer are also present in Canadian football.\n",
    "The two sports are considered the primary variants of gridiron football!\n",
    "\n",
    "American football is the most popular sport in the United States!\n",
    "\n",
    "The most popular forms of the game are professional and college football,\n",
    "with the other major levels being high school and youth football.\n",
    "As of 2012, nearly 1.1 million high school athletes and 70,000 college athletes play the sport in the US annually.\"\"\"\n",
    "\n",
    "# Define the pattern to match special symbols\n",
    "pattern = r'[^\\w\\s]'\n",
    "\n",
    "# Find all matches\n",
    "special_symbols = re.findall(pattern, txt)\n",
    "\n",
    "# Remove duplicates and sort for better readability\n",
    "special_symbols = sorted(set(special_symbols))\n",
    "\n",
    "# Display the special symbols\n",
    "print(special_symbols)\n"
   ]
  },
  {
   "cell_type": "markdown",
   "metadata": {},
   "source": [
    "#### Using the findall() method, check if the following text has any of the letters (a, r, n)."
   ]
  },
  {
   "cell_type": "code",
   "execution_count": 152,
   "metadata": {},
   "outputs": [
    {
     "name": "stdout",
     "output_type": "stream",
     "text": [
      "['a', 'n', 'a', 'r', 'n', 'n', 'a', 'a', 'r', 'n']\n",
      "Yes, there is at least one match!\n"
     ]
    }
   ],
   "source": [
    "import re\n",
    "\n",
    "txt = \"Hello, I am studyng Deep Learning at Mt. SAC. How are you doing?\"\n",
    "\n",
    "#Check if the string has any a, r, or n characters:\n",
    "\n",
    "# Define the pattern to find the letters a, r, or n\n",
    "pattern = r'[arn]'\n",
    "\n",
    "# Use findall() to find all occurrences of the pattern\n",
    "x = re.findall(pattern, txt)\n",
    "\n",
    "# Print the result\n",
    "print(x)\n",
    "if x:\n",
    "    print(\"Yes, there is at least one match!\")\n",
    "else:\n",
    "    print(\"No match\")"
   ]
  },
  {
   "cell_type": "markdown",
   "metadata": {},
   "source": [
    "### Other Examples"
   ]
  },
  {
   "cell_type": "markdown",
   "metadata": {},
   "source": [
    "### Search for a sequence that starts with \"he\", followed by two (any) characters, and an \"o\":"
   ]
  },
  {
   "cell_type": "code",
   "execution_count": 156,
   "metadata": {},
   "outputs": [
    {
     "name": "stdout",
     "output_type": "stream",
     "text": [
      "['hello']\n"
     ]
    }
   ],
   "source": [
    "import re\n",
    "\n",
    "txt = \"hello planet\"\n",
    "\n",
    "# Define the pattern to match the sequence\n",
    "pattern = r'he..o'\n",
    "\n",
    "# Use findall() to find all occurrences of the pattern\n",
    "matches = re.findall(pattern, txt)\n",
    "\n",
    "# Print the result\n",
    "print(matches)"
   ]
  },
  {
   "cell_type": "markdown",
   "metadata": {},
   "source": [
    "### Check if the string ends with \"SAC\":"
   ]
  },
  {
   "cell_type": "code",
   "execution_count": 158,
   "metadata": {},
   "outputs": [
    {
     "name": "stdout",
     "output_type": "stream",
     "text": [
      "['SAC']\n",
      "Yes, there is a match!\n"
     ]
    }
   ],
   "source": [
    "import re\n",
    "\n",
    "txt = \"Hello, I am studyng Deep Learning at Mt. SAC\"\n",
    "\n",
    "# Define the pattern to match \"SAC\" at the end of the string\n",
    "pattern = r'SAC$'\n",
    "\n",
    "# Use re.findall() to find all occurrences of the pattern\n",
    "x = re.findall(pattern, txt)\n",
    "\n",
    "# Print the result\n",
    "print(x)\n",
    "\n",
    "if x:\n",
    "    print(\"Yes, there is a match!\")\n",
    "else:\n",
    "    print(\"No match\")"
   ]
  },
  {
   "cell_type": "markdown",
   "metadata": {},
   "source": [
    "#### enter your full name below"
   ]
  },
  {
   "cell_type": "code",
   "execution_count": 160,
   "metadata": {},
   "outputs": [
    {
     "name": "stdout",
     "output_type": "stream",
     "text": [
      "William Yeh\n"
     ]
    }
   ],
   "source": [
    "txt = \"William Yeh\"\n",
    "# example:\n",
    "# txt = \"Angel Hernandez\"\n",
    "\n",
    "# Print the result\n",
    "print(txt)\n"
   ]
  },
  {
   "cell_type": "markdown",
   "metadata": {},
   "source": [
    "#### Using Named Group, extract your name and yoru last name.\n",
    "#### Create a pattern, match, and use match.group()"
   ]
  },
  {
   "cell_type": "code",
   "execution_count": 163,
   "metadata": {},
   "outputs": [
    {
     "name": "stdout",
     "output_type": "stream",
     "text": [
      "First Name: William\n",
      "Last Name: Yeh\n"
     ]
    }
   ],
   "source": [
    "import re\n",
    "\n",
    "# Define the text with your full name\n",
    "txt = \"William Yeh\"\n",
    "\n",
    "# Define the pattern with named groups\n",
    "pattern = r'(?P<first_name>\\w+) (?P<last_name>\\w+)'\n",
    "\n",
    "# Use re.match() to match the pattern\n",
    "match = re.match(pattern, txt)\n",
    "\n",
    "# Extract and print the named groups\n",
    "if match:\n",
    "    first_name = match.group('first_name')\n",
    "    last_name = match.group('last_name')\n",
    "    print(f\"First Name: {first_name}\")\n",
    "    print(f\"Last Name: {last_name}\")\n",
    "else:\n",
    "    print(\"No match found\")\n"
   ]
  },
  {
   "cell_type": "code",
   "execution_count": 33,
   "metadata": {},
   "outputs": [],
   "source": []
  },
  {
   "cell_type": "code",
   "execution_count": null,
   "metadata": {},
   "outputs": [],
   "source": []
  },
  {
   "cell_type": "code",
   "execution_count": null,
   "metadata": {},
   "outputs": [],
   "source": []
  },
  {
   "cell_type": "markdown",
   "metadata": {},
   "source": [
    "#### Display your last name followed by your first name"
   ]
  },
  {
   "cell_type": "code",
   "execution_count": 165,
   "metadata": {},
   "outputs": [
    {
     "name": "stdout",
     "output_type": "stream",
     "text": [
      "Last Name: Yeh\n",
      "First Name: William\n"
     ]
    }
   ],
   "source": [
    "import re\n",
    "\n",
    "# Define the text with your full name\n",
    "txt = \"William Yeh\"\n",
    "\n",
    "# Define the pattern with named groups\n",
    "pattern = r'(?P<first_name>\\w+) (?P<last_name>\\w+)'\n",
    "\n",
    "# Use re.match() to match the pattern\n",
    "match = re.match(pattern, txt)\n",
    "\n",
    "# Extract and print the named groups in reverse order\n",
    "if match:\n",
    "    first_name = match.group('first_name')\n",
    "    last_name = match.group('last_name')\n",
    "    print(f\"Last Name: {last_name}\")\n",
    "    print(f\"First Name: {first_name}\")\n",
    "else:\n",
    "    print(\"No match found\")\n"
   ]
  },
  {
   "cell_type": "markdown",
   "metadata": {},
   "source": [
    "### Explain why we need regular expression"
   ]
  },
  {
   "cell_type": "markdown",
   "metadata": {},
   "source": [
    "Regular expressions (regex) are crucial for text processing due to their ability to define and search for complex patterns within strings. They are essential for validating input formats, such as email addresses or phone numbers, ensuring data meets specific criteria. Regex enables efficient data extraction, allowing you to pull out specific information from larger text bodies. Additionally, they support search and replace operations, making it easy to clean or format text. Regex can perform sophisticated text transformations and operations in a single line of code, enhancing efficiency. Their flexibility with pattern definitions makes them adaptable to various text processing needs. Integrated into many programming languages and tools, regex provides a universal solution for handling text data across different platforms."
   ]
  },
  {
   "cell_type": "code",
   "execution_count": null,
   "metadata": {},
   "outputs": [],
   "source": []
  }
 ],
 "metadata": {
  "kernelspec": {
   "display_name": "Python 3 (ipykernel)",
   "language": "python",
   "name": "python3"
  },
  "language_info": {
   "codemirror_mode": {
    "name": "ipython",
    "version": 3
   },
   "file_extension": ".py",
   "mimetype": "text/x-python",
   "name": "python",
   "nbconvert_exporter": "python",
   "pygments_lexer": "ipython3",
   "version": "3.11.7"
  }
 },
 "nbformat": 4,
 "nbformat_minor": 4
}
